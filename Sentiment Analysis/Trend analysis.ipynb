{
 "cells": [
  {
   "cell_type": "code",
   "execution_count": 9,
   "id": "fb234c1b",
   "metadata": {},
   "outputs": [
    {
     "name": "stdout",
     "output_type": "stream",
     "text": [
      "{'Negative': 2186, 'Neutral': 6786, 'Positive': 5968}\n"
     ]
    },
    {
     "data": {
      "image/png": "[encoded data removed]",
      "text/plain": [
       "<Figure size 432x288 with 1 Axes>"
      ]
     },
     "metadata": {
      "needs_background": "light"
     },
     "output_type": "display_data"
    },
    {
     "data": {
      "image/png": "[encoded data removed]",
      "text/plain": [
       "<Figure size 432x288 with 1 Axes>"
      ]
     },
     "metadata": {
      "needs_background": "light"
     },
     "output_type": "display_data"
    }
   ],
   "source": [
    "import pandas as pd\n",
    "import textblob as tb\n",
    "import matplotlib.pyplot as plt\n",
    "\n",
    "df = pd.read_csv(\"demonetization-tweets.csv\",encoding='cp1252')\n",
    "#df\n",
    "\n",
    "def find_sentiment(t):\n",
    "    try:\n",
    "        analyse = tb.TextBlob(t)\n",
    "        polar = analyse.sentiment.polarity\n",
    "        if polar > 0:\n",
    "            return \"Positive\"\n",
    "        elif polar < 0:\n",
    "            return \"Negative\"\n",
    "        else:\n",
    "            return \"Neutral\"\n",
    "    except:\n",
    "        return \"Neutral\"\n",
    "        \n",
    "df['sentiment'] = df['text'].apply(lambda row:find_sentiment(row))\n",
    "#df\n",
    "\n",
    "#count of sentiment\n",
    "result = {}\n",
    "for senti, grp in df.groupby('sentiment'):\n",
    "   # print(senti,len(grp))\n",
    "    result[senti] = len(grp)\n",
    "print(result)\n",
    "\n",
    "#plot\n",
    "x = list(result.keys())\n",
    "y = list(result.values())\n",
    "\n",
    "plt.bar(x,y, color= 'blue')\n",
    "plt.scatter(x,y, color =\"red\")\n",
    "plt.plot(x,y, color = \"green\")\n",
    "plt.show()\n",
    "\n",
    "# Trend analysis\n",
    "def trend_sentiment(t):\n",
    "    try:\n",
    "        analyse = tb.TextBlob(t)    \n",
    "        if analyse.sentiment.polarity > 0:\n",
    "            return 1\n",
    "        elif analyse.sentiment.polarity < 0:\n",
    "            return -1\n",
    "        else:\n",
    "            return 0\n",
    "    except:\n",
    "        return 0 \n",
    "x = list(range(1,len(df) + 1))\n",
    "y = []\n",
    "tw_senti = 0\n",
    "for i in x:\n",
    "    t = df['text'][i-1]\n",
    "    tw_senti += trend_sentiment(t)\n",
    "    y.append(tw_senti)\n",
    "plt.plot(x,y, color = 'red')\n",
    "plt.show()\n",
    "\n",
    "\n"
   ]
  },
  {
   "cell_type": "code",
   "execution_count": null,
   "id": "483b5b4d",
   "metadata": {},
   "outputs": [],
   "source": [
    "'''\n",
    "#print(df['text'][0])\n",
    "t=df['text'][0]\n",
    "\n",
    "analyse = tb.TextBlob(t)\n",
    "polar = analyse.sentiment.polarity\n",
    "if polar > 0:\n",
    "    print(\"Positive\")\n",
    "elif polar < 0:\n",
    "    print(\"Negative\")\n",
    "else:\n",
    "    print(\"Neutral\")'''"
   ]
  },
  {
   "cell_type": "code",
   "execution_count": null,
   "id": "a72fd35b",
   "metadata": {},
   "outputs": [],
   "source": [
    "\n"
   ]
  }
 ],
 "metadata": {
  "kernelspec": {
   "display_name": "Python 3 (ipykernel)",
   "language": "python",
   "name": "python3"
  },
  "language_info": {
   "codemirror_mode": {
    "name": "ipython",
    "version": 3
   },
   "file_extension": ".py",
   "mimetype": "text/x-python",
   "name": "python",
   "nbconvert_exporter": "python",
   "pygments_lexer": "ipython3",
   "version": "3.9.12"
  }
 },
 "nbformat": 4,
 "nbformat_minor": 5
}
